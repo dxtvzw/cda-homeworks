{
 "cells": [
  {
   "cell_type": "markdown",
   "metadata": {},
   "source": [
    "# Notebook Plan\n",
    "\n",
    "1. Import modules\n",
    "2. Define configuration\n",
    "3. Read data from `.csv` file\n",
    "4. Show snippets from the dataset\n",
    "5. Describe the dataset (size, features, background)\n",
    "6. Fix data types\n",
    "7. Clean the data by removing outliers\n",
    "8. Plot some graphs for important features\n",
    "9. State hypothesis and how I came up to them\n",
    "10. Outline experiment setup\n",
    "11. Conduct the experiment\n",
    "12. Check whether the hypothesis is satisfied\n",
    "13. Repeat steps [9-12]"
   ]
  },
  {
   "cell_type": "markdown",
   "metadata": {},
   "source": [
    "### Importing necessary modules"
   ]
  },
  {
   "cell_type": "code",
   "execution_count": 32,
   "metadata": {},
   "outputs": [],
   "source": [
    "import os\n",
    "import json\n",
    "import ast\n",
    "\n",
    "import pandas as pd\n",
    "import numpy as np\n",
    "\n",
    "from PIL import Image\n",
    "from wordcloud import WordCloud, STOPWORDS, ImageColorGenerator\n",
    "\n",
    "import matplotlib.pyplot as plt\n",
    "\n",
    "%matplotlib inline"
   ]
  },
  {
   "cell_type": "code",
   "execution_count": 7,
   "metadata": {},
   "outputs": [],
   "source": [
    "pd.set_option('display.max_columns', None)"
   ]
  },
  {
   "cell_type": "markdown",
   "metadata": {},
   "source": [
    "### Configuration"
   ]
  },
  {
   "cell_type": "code",
   "execution_count": 8,
   "metadata": {},
   "outputs": [],
   "source": [
    "class cfg:\n",
    "    data_path_csv = 'data/games.csv'\n",
    "    data_path_json = 'data/games.json'"
   ]
  },
  {
   "cell_type": "markdown",
   "metadata": {},
   "source": [
    "### Reading data"
   ]
  },
  {
   "cell_type": "code",
   "execution_count": 9,
   "metadata": {},
   "outputs": [],
   "source": [
    "df = pd.read_csv(cfg.data_path_csv)"
   ]
  },
  {
   "cell_type": "code",
   "execution_count": 10,
   "metadata": {},
   "outputs": [
    {
     "data": {
      "text/html": [
       "<div>\n",
       "<style scoped>\n",
       "    .dataframe tbody tr th:only-of-type {\n",
       "        vertical-align: middle;\n",
       "    }\n",
       "\n",
       "    .dataframe tbody tr th {\n",
       "        vertical-align: top;\n",
       "    }\n",
       "\n",
       "    .dataframe thead th {\n",
       "        text-align: right;\n",
       "    }\n",
       "</style>\n",
       "<table border=\"1\" class=\"dataframe\">\n",
       "  <thead>\n",
       "    <tr style=\"text-align: right;\">\n",
       "      <th></th>\n",
       "      <th>AppID</th>\n",
       "      <th>Peak CCU</th>\n",
       "      <th>Required age</th>\n",
       "      <th>Price</th>\n",
       "      <th>DLC count</th>\n",
       "      <th>Metacritic score</th>\n",
       "      <th>User score</th>\n",
       "      <th>Positive</th>\n",
       "      <th>Negative</th>\n",
       "      <th>Score rank</th>\n",
       "      <th>Achievements</th>\n",
       "      <th>Recommendations</th>\n",
       "      <th>Average playtime forever</th>\n",
       "      <th>Average playtime two weeks</th>\n",
       "      <th>Median playtime forever</th>\n",
       "      <th>Median playtime two weeks</th>\n",
       "    </tr>\n",
       "  </thead>\n",
       "  <tbody>\n",
       "    <tr>\n",
       "      <th>count</th>\n",
       "      <td>8.510300e+04</td>\n",
       "      <td>85103.000000</td>\n",
       "      <td>85103.000000</td>\n",
       "      <td>85103.000000</td>\n",
       "      <td>85103.000000</td>\n",
       "      <td>85103.000000</td>\n",
       "      <td>85103.000000</td>\n",
       "      <td>8.510300e+04</td>\n",
       "      <td>85103.000000</td>\n",
       "      <td>44.000000</td>\n",
       "      <td>85103.000000</td>\n",
       "      <td>8.510300e+04</td>\n",
       "      <td>85103.000000</td>\n",
       "      <td>85103.000000</td>\n",
       "      <td>85103.000000</td>\n",
       "      <td>85103.000000</td>\n",
       "    </tr>\n",
       "    <tr>\n",
       "      <th>mean</th>\n",
       "      <td>1.355681e+06</td>\n",
       "      <td>134.872930</td>\n",
       "      <td>0.312774</td>\n",
       "      <td>7.193703</td>\n",
       "      <td>0.543412</td>\n",
       "      <td>3.348366</td>\n",
       "      <td>0.039822</td>\n",
       "      <td>9.585609e+02</td>\n",
       "      <td>159.772570</td>\n",
       "      <td>98.909091</td>\n",
       "      <td>19.859394</td>\n",
       "      <td>7.755176e+02</td>\n",
       "      <td>104.729681</td>\n",
       "      <td>10.680105</td>\n",
       "      <td>93.316029</td>\n",
       "      <td>11.467328</td>\n",
       "    </tr>\n",
       "    <tr>\n",
       "      <th>std</th>\n",
       "      <td>6.949952e+05</td>\n",
       "      <td>5403.548851</td>\n",
       "      <td>2.254721</td>\n",
       "      <td>12.362478</td>\n",
       "      <td>13.721223</td>\n",
       "      <td>15.421471</td>\n",
       "      <td>1.791013</td>\n",
       "      <td>2.435920e+04</td>\n",
       "      <td>4574.583903</td>\n",
       "      <td>0.857747</td>\n",
       "      <td>171.446874</td>\n",
       "      <td>1.789338e+04</td>\n",
       "      <td>1142.447517</td>\n",
       "      <td>188.840006</td>\n",
       "      <td>1510.732101</td>\n",
       "      <td>205.372944</td>\n",
       "    </tr>\n",
       "    <tr>\n",
       "      <th>min</th>\n",
       "      <td>1.000000e+01</td>\n",
       "      <td>0.000000</td>\n",
       "      <td>0.000000</td>\n",
       "      <td>0.000000</td>\n",
       "      <td>0.000000</td>\n",
       "      <td>0.000000</td>\n",
       "      <td>0.000000</td>\n",
       "      <td>0.000000e+00</td>\n",
       "      <td>0.000000</td>\n",
       "      <td>97.000000</td>\n",
       "      <td>0.000000</td>\n",
       "      <td>0.000000e+00</td>\n",
       "      <td>0.000000</td>\n",
       "      <td>0.000000</td>\n",
       "      <td>0.000000</td>\n",
       "      <td>0.000000</td>\n",
       "    </tr>\n",
       "    <tr>\n",
       "      <th>25%</th>\n",
       "      <td>7.723900e+05</td>\n",
       "      <td>0.000000</td>\n",
       "      <td>0.000000</td>\n",
       "      <td>0.990000</td>\n",
       "      <td>0.000000</td>\n",
       "      <td>0.000000</td>\n",
       "      <td>0.000000</td>\n",
       "      <td>0.000000e+00</td>\n",
       "      <td>0.000000</td>\n",
       "      <td>98.000000</td>\n",
       "      <td>0.000000</td>\n",
       "      <td>0.000000e+00</td>\n",
       "      <td>0.000000</td>\n",
       "      <td>0.000000</td>\n",
       "      <td>0.000000</td>\n",
       "      <td>0.000000</td>\n",
       "    </tr>\n",
       "    <tr>\n",
       "      <th>50%</th>\n",
       "      <td>1.331540e+06</td>\n",
       "      <td>0.000000</td>\n",
       "      <td>0.000000</td>\n",
       "      <td>4.490000</td>\n",
       "      <td>0.000000</td>\n",
       "      <td>0.000000</td>\n",
       "      <td>0.000000</td>\n",
       "      <td>7.000000e+00</td>\n",
       "      <td>2.000000</td>\n",
       "      <td>99.000000</td>\n",
       "      <td>0.000000</td>\n",
       "      <td>0.000000e+00</td>\n",
       "      <td>0.000000</td>\n",
       "      <td>0.000000</td>\n",
       "      <td>0.000000</td>\n",
       "      <td>0.000000</td>\n",
       "    </tr>\n",
       "    <tr>\n",
       "      <th>75%</th>\n",
       "      <td>1.918415e+06</td>\n",
       "      <td>1.000000</td>\n",
       "      <td>0.000000</td>\n",
       "      <td>9.990000</td>\n",
       "      <td>0.000000</td>\n",
       "      <td>0.000000</td>\n",
       "      <td>0.000000</td>\n",
       "      <td>4.500000e+01</td>\n",
       "      <td>14.000000</td>\n",
       "      <td>100.000000</td>\n",
       "      <td>18.000000</td>\n",
       "      <td>0.000000e+00</td>\n",
       "      <td>0.000000</td>\n",
       "      <td>0.000000</td>\n",
       "      <td>0.000000</td>\n",
       "      <td>0.000000</td>\n",
       "    </tr>\n",
       "    <tr>\n",
       "      <th>max</th>\n",
       "      <td>2.765800e+06</td>\n",
       "      <td>872138.000000</td>\n",
       "      <td>21.000000</td>\n",
       "      <td>999.980000</td>\n",
       "      <td>2366.000000</td>\n",
       "      <td>97.000000</td>\n",
       "      <td>100.000000</td>\n",
       "      <td>5.764420e+06</td>\n",
       "      <td>895978.000000</td>\n",
       "      <td>100.000000</td>\n",
       "      <td>9821.000000</td>\n",
       "      <td>3.441592e+06</td>\n",
       "      <td>145727.000000</td>\n",
       "      <td>19159.000000</td>\n",
       "      <td>208473.000000</td>\n",
       "      <td>19159.000000</td>\n",
       "    </tr>\n",
       "  </tbody>\n",
       "</table>\n",
       "</div>"
      ],
      "text/plain": [
       "              AppID       Peak CCU  Required age         Price     DLC count  \\\n",
       "count  8.510300e+04   85103.000000  85103.000000  85103.000000  85103.000000   \n",
       "mean   1.355681e+06     134.872930      0.312774      7.193703      0.543412   \n",
       "std    6.949952e+05    5403.548851      2.254721     12.362478     13.721223   \n",
       "min    1.000000e+01       0.000000      0.000000      0.000000      0.000000   \n",
       "25%    7.723900e+05       0.000000      0.000000      0.990000      0.000000   \n",
       "50%    1.331540e+06       0.000000      0.000000      4.490000      0.000000   \n",
       "75%    1.918415e+06       1.000000      0.000000      9.990000      0.000000   \n",
       "max    2.765800e+06  872138.000000     21.000000    999.980000   2366.000000   \n",
       "\n",
       "       Metacritic score    User score      Positive       Negative  \\\n",
       "count      85103.000000  85103.000000  8.510300e+04   85103.000000   \n",
       "mean           3.348366      0.039822  9.585609e+02     159.772570   \n",
       "std           15.421471      1.791013  2.435920e+04    4574.583903   \n",
       "min            0.000000      0.000000  0.000000e+00       0.000000   \n",
       "25%            0.000000      0.000000  0.000000e+00       0.000000   \n",
       "50%            0.000000      0.000000  7.000000e+00       2.000000   \n",
       "75%            0.000000      0.000000  4.500000e+01      14.000000   \n",
       "max           97.000000    100.000000  5.764420e+06  895978.000000   \n",
       "\n",
       "       Score rank  Achievements  Recommendations  Average playtime forever  \\\n",
       "count   44.000000  85103.000000     8.510300e+04              85103.000000   \n",
       "mean    98.909091     19.859394     7.755176e+02                104.729681   \n",
       "std      0.857747    171.446874     1.789338e+04               1142.447517   \n",
       "min     97.000000      0.000000     0.000000e+00                  0.000000   \n",
       "25%     98.000000      0.000000     0.000000e+00                  0.000000   \n",
       "50%     99.000000      0.000000     0.000000e+00                  0.000000   \n",
       "75%    100.000000     18.000000     0.000000e+00                  0.000000   \n",
       "max    100.000000   9821.000000     3.441592e+06             145727.000000   \n",
       "\n",
       "       Average playtime two weeks  Median playtime forever  \\\n",
       "count                85103.000000             85103.000000   \n",
       "mean                    10.680105                93.316029   \n",
       "std                    188.840006              1510.732101   \n",
       "min                      0.000000                 0.000000   \n",
       "25%                      0.000000                 0.000000   \n",
       "50%                      0.000000                 0.000000   \n",
       "75%                      0.000000                 0.000000   \n",
       "max                  19159.000000            208473.000000   \n",
       "\n",
       "       Median playtime two weeks  \n",
       "count               85103.000000  \n",
       "mean                   11.467328  \n",
       "std                   205.372944  \n",
       "min                     0.000000  \n",
       "25%                     0.000000  \n",
       "50%                     0.000000  \n",
       "75%                     0.000000  \n",
       "max                 19159.000000  "
      ]
     },
     "execution_count": 10,
     "metadata": {},
     "output_type": "execute_result"
    }
   ],
   "source": [
    "df.describe()"
   ]
  },
  {
   "cell_type": "code",
   "execution_count": 11,
   "metadata": {},
   "outputs": [
    {
     "data": {
      "text/html": [
       "<div>\n",
       "<style scoped>\n",
       "    .dataframe tbody tr th:only-of-type {\n",
       "        vertical-align: middle;\n",
       "    }\n",
       "\n",
       "    .dataframe tbody tr th {\n",
       "        vertical-align: top;\n",
       "    }\n",
       "\n",
       "    .dataframe thead th {\n",
       "        text-align: right;\n",
       "    }\n",
       "</style>\n",
       "<table border=\"1\" class=\"dataframe\">\n",
       "  <thead>\n",
       "    <tr style=\"text-align: right;\">\n",
       "      <th></th>\n",
       "      <th>AppID</th>\n",
       "      <th>Name</th>\n",
       "      <th>Release date</th>\n",
       "      <th>Estimated owners</th>\n",
       "      <th>Peak CCU</th>\n",
       "      <th>Required age</th>\n",
       "      <th>Price</th>\n",
       "      <th>DLC count</th>\n",
       "      <th>About the game</th>\n",
       "      <th>Supported languages</th>\n",
       "      <th>Full audio languages</th>\n",
       "      <th>Reviews</th>\n",
       "      <th>Header image</th>\n",
       "      <th>Website</th>\n",
       "      <th>Support url</th>\n",
       "      <th>Support email</th>\n",
       "      <th>Windows</th>\n",
       "      <th>Mac</th>\n",
       "      <th>Linux</th>\n",
       "      <th>Metacritic score</th>\n",
       "      <th>Metacritic url</th>\n",
       "      <th>User score</th>\n",
       "      <th>Positive</th>\n",
       "      <th>Negative</th>\n",
       "      <th>Score rank</th>\n",
       "      <th>Achievements</th>\n",
       "      <th>Recommendations</th>\n",
       "      <th>Notes</th>\n",
       "      <th>Average playtime forever</th>\n",
       "      <th>Average playtime two weeks</th>\n",
       "      <th>Median playtime forever</th>\n",
       "      <th>Median playtime two weeks</th>\n",
       "      <th>Developers</th>\n",
       "      <th>Publishers</th>\n",
       "      <th>Categories</th>\n",
       "      <th>Genres</th>\n",
       "      <th>Tags</th>\n",
       "      <th>Screenshots</th>\n",
       "      <th>Movies</th>\n",
       "    </tr>\n",
       "  </thead>\n",
       "  <tbody>\n",
       "    <tr>\n",
       "      <th>83001</th>\n",
       "      <td>2072090</td>\n",
       "      <td>Tax Evasion</td>\n",
       "      <td>Sep 18, 2023</td>\n",
       "      <td>0 - 20000</td>\n",
       "      <td>0</td>\n",
       "      <td>0</td>\n",
       "      <td>7.99</td>\n",
       "      <td>0</td>\n",
       "      <td>Invade the IRS to get back what is rightfully ...</td>\n",
       "      <td>['English']</td>\n",
       "      <td>[]</td>\n",
       "      <td>NaN</td>\n",
       "      <td>https://cdn.akamai.steamstatic.com/steam/apps/...</td>\n",
       "      <td>NaN</td>\n",
       "      <td>NaN</td>\n",
       "      <td>NoxBoxMain@Gmail.com</td>\n",
       "      <td>True</td>\n",
       "      <td>False</td>\n",
       "      <td>False</td>\n",
       "      <td>0</td>\n",
       "      <td>NaN</td>\n",
       "      <td>0</td>\n",
       "      <td>0</td>\n",
       "      <td>0</td>\n",
       "      <td>NaN</td>\n",
       "      <td>0</td>\n",
       "      <td>0</td>\n",
       "      <td>NaN</td>\n",
       "      <td>0</td>\n",
       "      <td>0</td>\n",
       "      <td>0</td>\n",
       "      <td>0</td>\n",
       "      <td>NoxBox</td>\n",
       "      <td>NoxBox</td>\n",
       "      <td>Single-player</td>\n",
       "      <td>Action,Casual,Indie</td>\n",
       "      <td>NaN</td>\n",
       "      <td>https://cdn.akamai.steamstatic.com/steam/apps/...</td>\n",
       "      <td>http://cdn.akamai.steamstatic.com/steam/apps/2...</td>\n",
       "    </tr>\n",
       "    <tr>\n",
       "      <th>24566</th>\n",
       "      <td>1027520</td>\n",
       "      <td>Hentai Waifu Vol.1</td>\n",
       "      <td>Feb 21, 2019</td>\n",
       "      <td>0 - 20000</td>\n",
       "      <td>0</td>\n",
       "      <td>0</td>\n",
       "      <td>1.99</td>\n",
       "      <td>2</td>\n",
       "      <td>Hentai Waifu is a Casual Ecchi / Hentai Clicke...</td>\n",
       "      <td>['English', 'French', 'Italian', 'German', 'Sp...</td>\n",
       "      <td>['English', 'French', 'Italian', 'German', 'Sp...</td>\n",
       "      <td>“WTH ARE YOU DOING?!” 10/10 – Someone “A Littl...</td>\n",
       "      <td>https://cdn.akamai.steamstatic.com/steam/apps/...</td>\n",
       "      <td>http://patreon.com/eroteam</td>\n",
       "      <td>http://patreon.com/eroteam</td>\n",
       "      <td>hello.rxiii@gmail.com</td>\n",
       "      <td>True</td>\n",
       "      <td>False</td>\n",
       "      <td>False</td>\n",
       "      <td>0</td>\n",
       "      <td>NaN</td>\n",
       "      <td>0</td>\n",
       "      <td>0</td>\n",
       "      <td>0</td>\n",
       "      <td>NaN</td>\n",
       "      <td>87</td>\n",
       "      <td>0</td>\n",
       "      <td>This Game may contain content not appropriate ...</td>\n",
       "      <td>0</td>\n",
       "      <td>0</td>\n",
       "      <td>0</td>\n",
       "      <td>0</td>\n",
       "      <td>Ero Team Triangle</td>\n",
       "      <td>Ero Team Triangle</td>\n",
       "      <td>Single-player,Steam Achievements,Partial Contr...</td>\n",
       "      <td>Casual,RPG,Simulation</td>\n",
       "      <td>NaN</td>\n",
       "      <td>https://cdn.akamai.steamstatic.com/steam/apps/...</td>\n",
       "      <td>http://cdn.akamai.steamstatic.com/steam/apps/2...</td>\n",
       "    </tr>\n",
       "    <tr>\n",
       "      <th>79552</th>\n",
       "      <td>2518550</td>\n",
       "      <td>Triplets Trouble!!!</td>\n",
       "      <td>Oct 6, 2023</td>\n",
       "      <td>0 - 0</td>\n",
       "      <td>0</td>\n",
       "      <td>0</td>\n",
       "      <td>0.00</td>\n",
       "      <td>0</td>\n",
       "      <td>Being a single parent is hard. Being a single ...</td>\n",
       "      <td>['English', 'Portuguese - Brazil']</td>\n",
       "      <td>['English', 'Portuguese - Brazil']</td>\n",
       "      <td>NaN</td>\n",
       "      <td>https://cdn.akamai.steamstatic.com/steam/apps/...</td>\n",
       "      <td>NaN</td>\n",
       "      <td>NaN</td>\n",
       "      <td>contato@cryingstargames.com.br</td>\n",
       "      <td>True</td>\n",
       "      <td>False</td>\n",
       "      <td>True</td>\n",
       "      <td>0</td>\n",
       "      <td>NaN</td>\n",
       "      <td>0</td>\n",
       "      <td>0</td>\n",
       "      <td>0</td>\n",
       "      <td>NaN</td>\n",
       "      <td>17</td>\n",
       "      <td>0</td>\n",
       "      <td>NaN</td>\n",
       "      <td>0</td>\n",
       "      <td>0</td>\n",
       "      <td>0</td>\n",
       "      <td>0</td>\n",
       "      <td>Crying Star Games</td>\n",
       "      <td>Crying Star Games</td>\n",
       "      <td>Single-player</td>\n",
       "      <td>Casual,Indie,Free to Play</td>\n",
       "      <td>NaN</td>\n",
       "      <td>https://cdn.akamai.steamstatic.com/steam/apps/...</td>\n",
       "      <td>http://cdn.akamai.steamstatic.com/steam/apps/2...</td>\n",
       "    </tr>\n",
       "    <tr>\n",
       "      <th>64140</th>\n",
       "      <td>2133040</td>\n",
       "      <td>荆轲新传（重制版）</td>\n",
       "      <td>Oct 1, 2022</td>\n",
       "      <td>0 - 20000</td>\n",
       "      <td>0</td>\n",
       "      <td>0</td>\n",
       "      <td>3.49</td>\n",
       "      <td>0</td>\n",
       "      <td>I wonder if you still remember the time when y...</td>\n",
       "      <td>['Simplified Chinese']</td>\n",
       "      <td>['Simplified Chinese']</td>\n",
       "      <td>NaN</td>\n",
       "      <td>https://cdn.akamai.steamstatic.com/steam/apps/...</td>\n",
       "      <td>https://space.bilibili.com/40613479</td>\n",
       "      <td>https://space.bilibili.com/40613479</td>\n",
       "      <td>29065683@qq.com</td>\n",
       "      <td>True</td>\n",
       "      <td>False</td>\n",
       "      <td>False</td>\n",
       "      <td>0</td>\n",
       "      <td>NaN</td>\n",
       "      <td>0</td>\n",
       "      <td>0</td>\n",
       "      <td>0</td>\n",
       "      <td>NaN</td>\n",
       "      <td>0</td>\n",
       "      <td>0</td>\n",
       "      <td>NaN</td>\n",
       "      <td>0</td>\n",
       "      <td>0</td>\n",
       "      <td>0</td>\n",
       "      <td>0</td>\n",
       "      <td>艾露比工作室</td>\n",
       "      <td>艾露比工作室</td>\n",
       "      <td>Single-player</td>\n",
       "      <td>Adventure,Casual,RPG</td>\n",
       "      <td>NaN</td>\n",
       "      <td>https://cdn.akamai.steamstatic.com/steam/apps/...</td>\n",
       "      <td>http://cdn.akamai.steamstatic.com/steam/apps/2...</td>\n",
       "    </tr>\n",
       "    <tr>\n",
       "      <th>36569</th>\n",
       "      <td>1510040</td>\n",
       "      <td>Swingy boy</td>\n",
       "      <td>Feb 9, 2021</td>\n",
       "      <td>0 - 20000</td>\n",
       "      <td>0</td>\n",
       "      <td>0</td>\n",
       "      <td>5.99</td>\n",
       "      <td>0</td>\n",
       "      <td>The only method of controlling the character i...</td>\n",
       "      <td>['English']</td>\n",
       "      <td>[]</td>\n",
       "      <td>NaN</td>\n",
       "      <td>https://cdn.akamai.steamstatic.com/steam/apps/...</td>\n",
       "      <td>NaN</td>\n",
       "      <td>NaN</td>\n",
       "      <td>chowmaterials@gmail.com</td>\n",
       "      <td>True</td>\n",
       "      <td>False</td>\n",
       "      <td>False</td>\n",
       "      <td>0</td>\n",
       "      <td>NaN</td>\n",
       "      <td>0</td>\n",
       "      <td>4</td>\n",
       "      <td>1</td>\n",
       "      <td>NaN</td>\n",
       "      <td>0</td>\n",
       "      <td>0</td>\n",
       "      <td>NaN</td>\n",
       "      <td>0</td>\n",
       "      <td>0</td>\n",
       "      <td>0</td>\n",
       "      <td>0</td>\n",
       "      <td>Krzysztof Malczuk</td>\n",
       "      <td>ChowMaterials</td>\n",
       "      <td>Single-player</td>\n",
       "      <td>Adventure,Casual,Indie</td>\n",
       "      <td>Adventure,Casual,Arcade,Character Action Game,...</td>\n",
       "      <td>https://cdn.akamai.steamstatic.com/steam/apps/...</td>\n",
       "      <td>http://cdn.akamai.steamstatic.com/steam/apps/2...</td>\n",
       "    </tr>\n",
       "  </tbody>\n",
       "</table>\n",
       "</div>"
      ],
      "text/plain": [
       "         AppID                 Name  Release date Estimated owners  Peak CCU  \\\n",
       "83001  2072090          Tax Evasion  Sep 18, 2023        0 - 20000         0   \n",
       "24566  1027520   Hentai Waifu Vol.1  Feb 21, 2019        0 - 20000         0   \n",
       "79552  2518550  Triplets Trouble!!!   Oct 6, 2023            0 - 0         0   \n",
       "64140  2133040            荆轲新传（重制版）   Oct 1, 2022        0 - 20000         0   \n",
       "36569  1510040           Swingy boy   Feb 9, 2021        0 - 20000         0   \n",
       "\n",
       "       Required age  Price  DLC count  \\\n",
       "83001             0   7.99          0   \n",
       "24566             0   1.99          2   \n",
       "79552             0   0.00          0   \n",
       "64140             0   3.49          0   \n",
       "36569             0   5.99          0   \n",
       "\n",
       "                                          About the game  \\\n",
       "83001  Invade the IRS to get back what is rightfully ...   \n",
       "24566  Hentai Waifu is a Casual Ecchi / Hentai Clicke...   \n",
       "79552  Being a single parent is hard. Being a single ...   \n",
       "64140  I wonder if you still remember the time when y...   \n",
       "36569  The only method of controlling the character i...   \n",
       "\n",
       "                                     Supported languages  \\\n",
       "83001                                        ['English']   \n",
       "24566  ['English', 'French', 'Italian', 'German', 'Sp...   \n",
       "79552                 ['English', 'Portuguese - Brazil']   \n",
       "64140                             ['Simplified Chinese']   \n",
       "36569                                        ['English']   \n",
       "\n",
       "                                    Full audio languages  \\\n",
       "83001                                                 []   \n",
       "24566  ['English', 'French', 'Italian', 'German', 'Sp...   \n",
       "79552                 ['English', 'Portuguese - Brazil']   \n",
       "64140                             ['Simplified Chinese']   \n",
       "36569                                                 []   \n",
       "\n",
       "                                                 Reviews  \\\n",
       "83001                                                NaN   \n",
       "24566  “WTH ARE YOU DOING?!” 10/10 – Someone “A Littl...   \n",
       "79552                                                NaN   \n",
       "64140                                                NaN   \n",
       "36569                                                NaN   \n",
       "\n",
       "                                            Header image  \\\n",
       "83001  https://cdn.akamai.steamstatic.com/steam/apps/...   \n",
       "24566  https://cdn.akamai.steamstatic.com/steam/apps/...   \n",
       "79552  https://cdn.akamai.steamstatic.com/steam/apps/...   \n",
       "64140  https://cdn.akamai.steamstatic.com/steam/apps/...   \n",
       "36569  https://cdn.akamai.steamstatic.com/steam/apps/...   \n",
       "\n",
       "                                   Website  \\\n",
       "83001                                  NaN   \n",
       "24566           http://patreon.com/eroteam   \n",
       "79552                                  NaN   \n",
       "64140  https://space.bilibili.com/40613479   \n",
       "36569                                  NaN   \n",
       "\n",
       "                               Support url                   Support email  \\\n",
       "83001                                  NaN            NoxBoxMain@Gmail.com   \n",
       "24566           http://patreon.com/eroteam           hello.rxiii@gmail.com   \n",
       "79552                                  NaN  contato@cryingstargames.com.br   \n",
       "64140  https://space.bilibili.com/40613479                 29065683@qq.com   \n",
       "36569                                  NaN         chowmaterials@gmail.com   \n",
       "\n",
       "       Windows    Mac  Linux  Metacritic score Metacritic url  User score  \\\n",
       "83001     True  False  False                 0            NaN           0   \n",
       "24566     True  False  False                 0            NaN           0   \n",
       "79552     True  False   True                 0            NaN           0   \n",
       "64140     True  False  False                 0            NaN           0   \n",
       "36569     True  False  False                 0            NaN           0   \n",
       "\n",
       "       Positive  Negative  Score rank  Achievements  Recommendations  \\\n",
       "83001         0         0         NaN             0                0   \n",
       "24566         0         0         NaN            87                0   \n",
       "79552         0         0         NaN            17                0   \n",
       "64140         0         0         NaN             0                0   \n",
       "36569         4         1         NaN             0                0   \n",
       "\n",
       "                                                   Notes  \\\n",
       "83001                                                NaN   \n",
       "24566  This Game may contain content not appropriate ...   \n",
       "79552                                                NaN   \n",
       "64140                                                NaN   \n",
       "36569                                                NaN   \n",
       "\n",
       "       Average playtime forever  Average playtime two weeks  \\\n",
       "83001                         0                           0   \n",
       "24566                         0                           0   \n",
       "79552                         0                           0   \n",
       "64140                         0                           0   \n",
       "36569                         0                           0   \n",
       "\n",
       "       Median playtime forever  Median playtime two weeks         Developers  \\\n",
       "83001                        0                          0             NoxBox   \n",
       "24566                        0                          0  Ero Team Triangle   \n",
       "79552                        0                          0  Crying Star Games   \n",
       "64140                        0                          0             艾露比工作室   \n",
       "36569                        0                          0  Krzysztof Malczuk   \n",
       "\n",
       "              Publishers                                         Categories  \\\n",
       "83001             NoxBox                                      Single-player   \n",
       "24566  Ero Team Triangle  Single-player,Steam Achievements,Partial Contr...   \n",
       "79552  Crying Star Games                                      Single-player   \n",
       "64140             艾露比工作室                                      Single-player   \n",
       "36569      ChowMaterials                                      Single-player   \n",
       "\n",
       "                          Genres  \\\n",
       "83001        Action,Casual,Indie   \n",
       "24566      Casual,RPG,Simulation   \n",
       "79552  Casual,Indie,Free to Play   \n",
       "64140       Adventure,Casual,RPG   \n",
       "36569     Adventure,Casual,Indie   \n",
       "\n",
       "                                                    Tags  \\\n",
       "83001                                                NaN   \n",
       "24566                                                NaN   \n",
       "79552                                                NaN   \n",
       "64140                                                NaN   \n",
       "36569  Adventure,Casual,Arcade,Character Action Game,...   \n",
       "\n",
       "                                             Screenshots  \\\n",
       "83001  https://cdn.akamai.steamstatic.com/steam/apps/...   \n",
       "24566  https://cdn.akamai.steamstatic.com/steam/apps/...   \n",
       "79552  https://cdn.akamai.steamstatic.com/steam/apps/...   \n",
       "64140  https://cdn.akamai.steamstatic.com/steam/apps/...   \n",
       "36569  https://cdn.akamai.steamstatic.com/steam/apps/...   \n",
       "\n",
       "                                                  Movies  \n",
       "83001  http://cdn.akamai.steamstatic.com/steam/apps/2...  \n",
       "24566  http://cdn.akamai.steamstatic.com/steam/apps/2...  \n",
       "79552  http://cdn.akamai.steamstatic.com/steam/apps/2...  \n",
       "64140  http://cdn.akamai.steamstatic.com/steam/apps/2...  \n",
       "36569  http://cdn.akamai.steamstatic.com/steam/apps/2...  "
      ]
     },
     "execution_count": 11,
     "metadata": {},
     "output_type": "execute_result"
    }
   ],
   "source": [
    "df.sample(5)"
   ]
  },
  {
   "cell_type": "markdown",
   "metadata": {},
   "source": [
    "### Features"
   ]
  },
  {
   "cell_type": "code",
   "execution_count": 13,
   "metadata": {},
   "outputs": [
    {
     "data": {
      "text/plain": [
       "Index(['AppID', 'Name', 'Release date', 'Estimated owners', 'Peak CCU',\n",
       "       'Required age', 'Price', 'DLC count', 'About the game',\n",
       "       'Supported languages', 'Full audio languages', 'Reviews',\n",
       "       'Header image', 'Website', 'Support url', 'Support email', 'Windows',\n",
       "       'Mac', 'Linux', 'Metacritic score', 'Metacritic url', 'User score',\n",
       "       'Positive', 'Negative', 'Score rank', 'Achievements', 'Recommendations',\n",
       "       'Notes', 'Average playtime forever', 'Average playtime two weeks',\n",
       "       'Median playtime forever', 'Median playtime two weeks', 'Developers',\n",
       "       'Publishers', 'Categories', 'Genres', 'Tags', 'Screenshots', 'Movies'],\n",
       "      dtype='object')"
      ]
     },
     "execution_count": 13,
     "metadata": {},
     "output_type": "execute_result"
    }
   ],
   "source": [
    "df.columns"
   ]
  },
  {
   "cell_type": "markdown",
   "metadata": {},
   "source": [
    "### Fixing data types"
   ]
  },
  {
   "cell_type": "code",
   "execution_count": 14,
   "metadata": {},
   "outputs": [
    {
     "data": {
      "text/plain": [
       "AppID                           int64\n",
       "Name                           object\n",
       "Release date                   object\n",
       "Estimated owners               object\n",
       "Peak CCU                        int64\n",
       "Required age                    int64\n",
       "Price                         float64\n",
       "DLC count                       int64\n",
       "About the game                 object\n",
       "Supported languages            object\n",
       "Full audio languages           object\n",
       "Reviews                        object\n",
       "Header image                   object\n",
       "Website                        object\n",
       "Support url                    object\n",
       "Support email                  object\n",
       "Windows                          bool\n",
       "Mac                              bool\n",
       "Linux                            bool\n",
       "Metacritic score                int64\n",
       "Metacritic url                 object\n",
       "User score                      int64\n",
       "Positive                        int64\n",
       "Negative                        int64\n",
       "Score rank                    float64\n",
       "Achievements                    int64\n",
       "Recommendations                 int64\n",
       "Notes                          object\n",
       "Average playtime forever        int64\n",
       "Average playtime two weeks      int64\n",
       "Median playtime forever         int64\n",
       "Median playtime two weeks       int64\n",
       "Developers                     object\n",
       "Publishers                     object\n",
       "Categories                     object\n",
       "Genres                         object\n",
       "Tags                           object\n",
       "Screenshots                    object\n",
       "Movies                         object\n",
       "dtype: object"
      ]
     },
     "execution_count": 14,
     "metadata": {},
     "output_type": "execute_result"
    }
   ],
   "source": [
    "df.dtypes"
   ]
  },
  {
   "cell_type": "code",
   "execution_count": 54,
   "metadata": {},
   "outputs": [],
   "source": [
    "def safe_literal_eval(x):\n",
    "    try:\n",
    "        return ast.literal_eval(x)\n",
    "    except (ValueError, SyntaxError):\n",
    "        return []\n",
    "\n",
    "df['Release date'] = pd.to_datetime(df['Release date'], format='mixed')\n",
    "df['Supported languages'] = df['Supported languages'].apply(safe_literal_eval)\n",
    "df['Full audio languages'] = df['Full audio languages'].apply(safe_literal_eval)\n",
    "df['Genres'] = df['Genres'].str.split(',')\n",
    "df['Tags'] = df['Tags'].str.split(',')"
   ]
  },
  {
   "cell_type": "markdown",
   "metadata": {},
   "source": [
    "### Main"
   ]
  },
  {
   "cell_type": "code",
   "execution_count": 16,
   "metadata": {},
   "outputs": [
    {
     "data": {
      "image/png": "[encoded data removed]",
      "text/plain": [
       "<Figure size 640x480 with 1 Axes>"
      ]
     },
     "metadata": {},
     "output_type": "display_data"
    }
   ],
   "source": [
    "plt.hist(df['Release date'], bins=100)\n",
    "\n",
    "plt.show()"
   ]
  },
  {
   "cell_type": "code",
   "execution_count": 17,
   "metadata": {},
   "outputs": [
    {
     "data": {
      "image/png": "[encoded data removed]",
      "text/plain": [
       "<Figure size 640x480 with 1 Axes>"
      ]
     },
     "metadata": {},
     "output_type": "display_data"
    }
   ],
   "source": [
    "plt.hist(df['Estimated owners'], bins=100)\n",
    "plt.xticks(rotation=60)\n",
    "plt.show()"
   ]
  },
  {
   "cell_type": "code",
   "execution_count": 18,
   "metadata": {},
   "outputs": [
    {
     "data": {
      "image/png": "[encoded data removed]",
      "text/plain": [
       "<Figure size 640x480 with 1 Axes>"
      ]
     },
     "metadata": {},
     "output_type": "display_data"
    }
   ],
   "source": [
    "lower_bound = df['Peak CCU'].quantile(0.96)\n",
    "upper_bound = df['Peak CCU'].quantile(0.99)\n",
    "\n",
    "plt.hist(df[(df['Peak CCU'] >= lower_bound) & (df['Peak CCU'] <= upper_bound)]['Peak CCU'], bins=100)\n",
    "\n",
    "plt.show()"
   ]
  },
  {
   "cell_type": "code",
   "execution_count": 19,
   "metadata": {},
   "outputs": [
    {
     "data": {
      "text/plain": [
       "21"
      ]
     },
     "execution_count": 19,
     "metadata": {},
     "output_type": "execute_result"
    }
   ],
   "source": [
    "df['Required age'].max()"
   ]
  },
  {
   "cell_type": "code",
   "execution_count": 20,
   "metadata": {},
   "outputs": [
    {
     "data": {
      "image/png": "[encoded data removed]",
      "text/plain": [
       "<Figure size 1200x800 with 1 Axes>"
      ]
     },
     "metadata": {},
     "output_type": "display_data"
    }
   ],
   "source": [
    "plt.figure(figsize=(12, 8))\n",
    "plt.hist(df['Required age'], bins=list(range(0, 25)))\n",
    "plt.show()"
   ]
  },
  {
   "cell_type": "code",
   "execution_count": 21,
   "metadata": {},
   "outputs": [
    {
     "data": {
      "image/png": "[encoded data removed]",
      "text/plain": [
       "<Figure size 640x480 with 1 Axes>"
      ]
     },
     "metadata": {},
     "output_type": "display_data"
    }
   ],
   "source": [
    "lower_bound = df['Price'].quantile(0)\n",
    "upper_bound = df['Price'].quantile(0.98)\n",
    "\n",
    "plt.hist(df[(df['Price'] >= lower_bound) & (df['Price'] <= upper_bound)]['Price'], bins=50)\n",
    "\n",
    "plt.show()"
   ]
  },
  {
   "cell_type": "code",
   "execution_count": 22,
   "metadata": {},
   "outputs": [
    {
     "data": {
      "text/plain": [
       "0           0\n",
       "55713       0\n",
       "55712       0\n",
       "55710       0\n",
       "55709       0\n",
       "         ... \n",
       "44976     678\n",
       "6690      678\n",
       "7575     1555\n",
       "23291    1968\n",
       "32933    2366\n",
       "Name: DLC count, Length: 85103, dtype: int64"
      ]
     },
     "execution_count": 22,
     "metadata": {},
     "output_type": "execute_result"
    }
   ],
   "source": [
    "df['DLC count'].sort_values()"
   ]
  },
  {
   "cell_type": "code",
   "execution_count": 23,
   "metadata": {},
   "outputs": [
    {
     "data": {
      "text/plain": [
       "AppID                                                                   1196310\n",
       "Name                                                      Fantasy Grounds Unity\n",
       "Release date                                                2020-11-05 00:00:00\n",
       "Estimated owners                                                  20000 - 50000\n",
       "Peak CCU                                                                    145\n",
       "Required age                                                                  0\n",
       "Price                                                                     39.99\n",
       "DLC count                                                                  2366\n",
       "About the game                Prep Less. Play Better. Fantasy Grounds is kno...\n",
       "Supported languages                                                 ['English']\n",
       "Full audio languages                                                         []\n",
       "Reviews                                                                     NaN\n",
       "Header image                  https://cdn.akamai.steamstatic.com/steam/apps/...\n",
       "Website                                                                     NaN\n",
       "Support url                                          support.fantasygrounds.com\n",
       "Support email                                        support@fantasygrounds.com\n",
       "Windows                                                                    True\n",
       "Mac                                                                        True\n",
       "Linux                                                                      True\n",
       "Metacritic score                                                              0\n",
       "Metacritic url                                                              NaN\n",
       "User score                                                                    0\n",
       "Positive                                                                    424\n",
       "Negative                                                                     60\n",
       "Score rank                                                                  NaN\n",
       "Achievements                                                                  0\n",
       "Recommendations                                                             392\n",
       "Notes                                                                       NaN\n",
       "Average playtime forever                                                    789\n",
       "Average playtime two weeks                                                    0\n",
       "Median playtime forever                                                     888\n",
       "Median playtime two weeks                                                     0\n",
       "Developers                                                  SmiteWorks USA, LLC\n",
       "Publishers                                                  SmiteWorks USA, LLC\n",
       "Categories                    Single-player,Multi-player,Co-op,Online Co-op,...\n",
       "Genres                                                       Indie,RPG,Strategy\n",
       "Tags                          RPG,Dungeons & Dragons,Strategy,Indie,Software...\n",
       "Screenshots                   https://cdn.akamai.steamstatic.com/steam/apps/...\n",
       "Movies                        http://cdn.akamai.steamstatic.com/steam/apps/2...\n",
       "Name: 32933, dtype: object"
      ]
     },
     "execution_count": 23,
     "metadata": {},
     "output_type": "execute_result"
    }
   ],
   "source": [
    "df.loc[32933]"
   ]
  },
  {
   "cell_type": "markdown",
   "metadata": {},
   "source": [
    "I've found this game on Steam and it seems like this game legitly has more than 2000 dlcs."
   ]
  },
  {
   "cell_type": "code",
   "execution_count": 24,
   "metadata": {},
   "outputs": [
    {
     "data": {
      "image/png": "[encoded data removed]",
      "text/plain": [
       "<Figure size 640x480 with 1 Axes>"
      ]
     },
     "metadata": {},
     "output_type": "display_data"
    }
   ],
   "source": [
    "lower_bound = df['DLC count'].quantile(0)\n",
    "upper_bound = df['DLC count'].quantile(0.99)\n",
    "\n",
    "plt.hist(df[(df['DLC count'] >= lower_bound) & (df['DLC count'] <= upper_bound)]['DLC count'], bins=range(0, 10))\n",
    "\n",
    "plt.show()"
   ]
  },
  {
   "cell_type": "code",
   "execution_count": 25,
   "metadata": {},
   "outputs": [
    {
     "data": {
      "text/plain": [
       "0        Galactic Bowling is an exaggerated and stylize...\n",
       "1        THE LAW!! Looks to be a showdown atop a train....\n",
       "2        Jolt Project: The army now has a new robotics ...\n",
       "3        HENOSIS™ is a mysterious 2D Platform Puzzler w...\n",
       "4        ABOUT THE GAME Play as a hacker who has arrang...\n",
       "                               ...                        \n",
       "85098    Marshal Mannerheim’s Saloon Car is the train c...\n",
       "85099    Beer Run is an Indie game created to steal bee...\n",
       "85100    A small 'horror' narrative game about isolatio...\n",
       "85101    Path of Survivors is a multi-class auto-battle...\n",
       "85102    Meet Mariah, Maria, and Missy a group of colle...\n",
       "Name: About the game, Length: 85103, dtype: object"
      ]
     },
     "execution_count": 25,
     "metadata": {},
     "output_type": "execute_result"
    }
   ],
   "source": [
    "df['About the game']"
   ]
  },
  {
   "cell_type": "code",
   "execution_count": 29,
   "metadata": {},
   "outputs": [],
   "source": []
  },
  {
   "cell_type": "code",
   "execution_count": 31,
   "metadata": {},
   "outputs": [
    {
     "name": "stdout",
     "output_type": "stream",
     "text": [
      "<class 'str'>\n",
      "['English']\n",
      "English\n"
     ]
    }
   ],
   "source": [
    "for sublist in df['Supported languages']:\n",
    "    print(type(sublist))\n",
    "    print(ast.literal_eval(sublist))\n",
    "    for lang in ast.literal_eval(sublist):\n",
    "        print(lang)\n",
    "        break\n",
    "    break"
   ]
  },
  {
   "cell_type": "code",
   "execution_count": 57,
   "metadata": {},
   "outputs": [
    {
     "ename": "ValueError",
     "evalue": "We need at least 1 word to plot a word cloud, got 0.",
     "output_type": "error",
     "traceback": [
      "\u001b[0;31m---------------------------------------------------------------------------\u001b[0m",
      "\u001b[0;31mValueError\u001b[0m                                Traceback (most recent call last)",
      "Cell \u001b[0;32mIn[57], line 5\u001b[0m\n\u001b[1;32m      1\u001b[0m all_languages \u001b[38;5;241m=\u001b[39m [lang \u001b[38;5;28;01mfor\u001b[39;00m sublist \u001b[38;5;129;01min\u001b[39;00m df[\u001b[38;5;124m'\u001b[39m\u001b[38;5;124mSupported languages\u001b[39m\u001b[38;5;124m'\u001b[39m] \u001b[38;5;28;01mfor\u001b[39;00m lang \u001b[38;5;129;01min\u001b[39;00m sublist]\n\u001b[1;32m      3\u001b[0m text \u001b[38;5;241m=\u001b[39m \u001b[38;5;124m'\u001b[39m\u001b[38;5;124m \u001b[39m\u001b[38;5;124m'\u001b[39m\u001b[38;5;241m.\u001b[39mjoin(all_languages)\n\u001b[0;32m----> 5\u001b[0m wordcloud \u001b[38;5;241m=\u001b[39m \u001b[43mWordCloud\u001b[49m\u001b[43m(\u001b[49m\u001b[43mwidth\u001b[49m\u001b[38;5;241;43m=\u001b[39;49m\u001b[38;5;241;43m800\u001b[39;49m\u001b[43m,\u001b[49m\u001b[43m \u001b[49m\u001b[43mheight\u001b[49m\u001b[38;5;241;43m=\u001b[39;49m\u001b[38;5;241;43m400\u001b[39;49m\u001b[43m,\u001b[49m\u001b[43m \u001b[49m\u001b[43mbackground_color\u001b[49m\u001b[38;5;241;43m=\u001b[39;49m\u001b[38;5;124;43m'\u001b[39;49m\u001b[38;5;124;43mwhite\u001b[39;49m\u001b[38;5;124;43m'\u001b[39;49m\u001b[43m)\u001b[49m\u001b[38;5;241;43m.\u001b[39;49m\u001b[43mgenerate\u001b[49m\u001b[43m(\u001b[49m\u001b[43mtext\u001b[49m\u001b[43m)\u001b[49m\n\u001b[1;32m      7\u001b[0m plt\u001b[38;5;241m.\u001b[39mimshow(wordcloud, interpolation\u001b[38;5;241m=\u001b[39m\u001b[38;5;124m'\u001b[39m\u001b[38;5;124mbilinear\u001b[39m\u001b[38;5;124m'\u001b[39m)\n\u001b[1;32m      8\u001b[0m plt\u001b[38;5;241m.\u001b[39maxis(\u001b[38;5;124m'\u001b[39m\u001b[38;5;124moff\u001b[39m\u001b[38;5;124m'\u001b[39m)\n",
      "File \u001b[0;32m~/miniconda3/envs/main/lib/python3.10/site-packages/wordcloud/wordcloud.py:642\u001b[0m, in \u001b[0;36mWordCloud.generate\u001b[0;34m(self, text)\u001b[0m\n\u001b[1;32m    627\u001b[0m \u001b[38;5;28;01mdef\u001b[39;00m \u001b[38;5;21mgenerate\u001b[39m(\u001b[38;5;28mself\u001b[39m, text):\n\u001b[1;32m    628\u001b[0m \u001b[38;5;250m    \u001b[39m\u001b[38;5;124;03m\"\"\"Generate wordcloud from text.\u001b[39;00m\n\u001b[1;32m    629\u001b[0m \n\u001b[1;32m    630\u001b[0m \u001b[38;5;124;03m    The input \"text\" is expected to be a natural text. If you pass a sorted\u001b[39;00m\n\u001b[0;32m   (...)\u001b[0m\n\u001b[1;32m    640\u001b[0m \u001b[38;5;124;03m    self\u001b[39;00m\n\u001b[1;32m    641\u001b[0m \u001b[38;5;124;03m    \"\"\"\u001b[39;00m\n\u001b[0;32m--> 642\u001b[0m     \u001b[38;5;28;01mreturn\u001b[39;00m \u001b[38;5;28;43mself\u001b[39;49m\u001b[38;5;241;43m.\u001b[39;49m\u001b[43mgenerate_from_text\u001b[49m\u001b[43m(\u001b[49m\u001b[43mtext\u001b[49m\u001b[43m)\u001b[49m\n",
      "File \u001b[0;32m~/miniconda3/envs/main/lib/python3.10/site-packages/wordcloud/wordcloud.py:624\u001b[0m, in \u001b[0;36mWordCloud.generate_from_text\u001b[0;34m(self, text)\u001b[0m\n\u001b[1;32m    607\u001b[0m \u001b[38;5;250m\u001b[39m\u001b[38;5;124;03m\"\"\"Generate wordcloud from text.\u001b[39;00m\n\u001b[1;32m    608\u001b[0m \n\u001b[1;32m    609\u001b[0m \u001b[38;5;124;03mThe input \"text\" is expected to be a natural text. If you pass a sorted\u001b[39;00m\n\u001b[0;32m   (...)\u001b[0m\n\u001b[1;32m    621\u001b[0m \u001b[38;5;124;03mself\u001b[39;00m\n\u001b[1;32m    622\u001b[0m \u001b[38;5;124;03m\"\"\"\u001b[39;00m\n\u001b[1;32m    623\u001b[0m words \u001b[38;5;241m=\u001b[39m \u001b[38;5;28mself\u001b[39m\u001b[38;5;241m.\u001b[39mprocess_text(text)\n\u001b[0;32m--> 624\u001b[0m \u001b[38;5;28;43mself\u001b[39;49m\u001b[38;5;241;43m.\u001b[39;49m\u001b[43mgenerate_from_frequencies\u001b[49m\u001b[43m(\u001b[49m\u001b[43mwords\u001b[49m\u001b[43m)\u001b[49m\n\u001b[1;32m    625\u001b[0m \u001b[38;5;28;01mreturn\u001b[39;00m \u001b[38;5;28mself\u001b[39m\n",
      "File \u001b[0;32m~/miniconda3/envs/main/lib/python3.10/site-packages/wordcloud/wordcloud.py:410\u001b[0m, in \u001b[0;36mWordCloud.generate_from_frequencies\u001b[0;34m(self, frequencies, max_font_size)\u001b[0m\n\u001b[1;32m    408\u001b[0m frequencies \u001b[38;5;241m=\u001b[39m \u001b[38;5;28msorted\u001b[39m(frequencies\u001b[38;5;241m.\u001b[39mitems(), key\u001b[38;5;241m=\u001b[39mitemgetter(\u001b[38;5;241m1\u001b[39m), reverse\u001b[38;5;241m=\u001b[39m\u001b[38;5;28;01mTrue\u001b[39;00m)\n\u001b[1;32m    409\u001b[0m \u001b[38;5;28;01mif\u001b[39;00m \u001b[38;5;28mlen\u001b[39m(frequencies) \u001b[38;5;241m<\u001b[39m\u001b[38;5;241m=\u001b[39m \u001b[38;5;241m0\u001b[39m:\n\u001b[0;32m--> 410\u001b[0m     \u001b[38;5;28;01mraise\u001b[39;00m \u001b[38;5;167;01mValueError\u001b[39;00m(\u001b[38;5;124m\"\u001b[39m\u001b[38;5;124mWe need at least 1 word to plot a word cloud, \u001b[39m\u001b[38;5;124m\"\u001b[39m\n\u001b[1;32m    411\u001b[0m                      \u001b[38;5;124m\"\u001b[39m\u001b[38;5;124mgot \u001b[39m\u001b[38;5;132;01m%d\u001b[39;00m\u001b[38;5;124m.\u001b[39m\u001b[38;5;124m\"\u001b[39m \u001b[38;5;241m%\u001b[39m \u001b[38;5;28mlen\u001b[39m(frequencies))\n\u001b[1;32m    412\u001b[0m frequencies \u001b[38;5;241m=\u001b[39m frequencies[:\u001b[38;5;28mself\u001b[39m\u001b[38;5;241m.\u001b[39mmax_words]\n\u001b[1;32m    414\u001b[0m \u001b[38;5;66;03m# largest entry will be 1\u001b[39;00m\n",
      "\u001b[0;31mValueError\u001b[0m: We need at least 1 word to plot a word cloud, got 0."
     ]
    }
   ],
   "source": [
    "all_languages = [lang for sublist in df['Supported languages'] for lang in sublist]\n",
    "\n",
    "text = ' '.join(all_languages)\n",
    "\n",
    "wordcloud = WordCloud(width=800, height=400, background_color='white').generate(text)\n",
    "\n",
    "plt.imshow(wordcloud, interpolation='bilinear')\n",
    "plt.axis('off')\n",
    "plt.show()"
   ]
  },
  {
   "cell_type": "code",
   "execution_count": null,
   "metadata": {},
   "outputs": [],
   "source": []
  }
 ],
 "metadata": {
  "kernelspec": {
   "display_name": "main",
   "language": "python",
   "name": "python3"
  },
  "language_info": {
   "codemirror_mode": {
    "name": "ipython",
    "version": 3
   },
   "file_extension": ".py",
   "mimetype": "text/x-python",
   "name": "python",
   "nbconvert_exporter": "python",
   "pygments_lexer": "ipython3",
   "version": "3.10.13"
  }
 },
 "nbformat": 4,
 "nbformat_minor": 2
}
